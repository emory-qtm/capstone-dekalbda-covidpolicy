{
 "cells": [
  {
   "cell_type": "code",
   "execution_count": 1,
   "metadata": {},
   "outputs": [],
   "source": [
    "import numpy as np\n",
    "import pandas as pd"
   ]
  },
  {
   "cell_type": "code",
   "execution_count": 46,
   "metadata": {},
   "outputs": [],
   "source": [
    "pros = pd.read_csv('/Users/clairefenton/Downloads/2023-01-25_name_removed/Prosecutor Data-01-25-2023_name_rem.csv')\n",
    "sent = pd.read_csv('/Users/clairefenton/Downloads/2023-01-25_name_removed/Sentencing Information-01-25-2023_name_rem.csv')"
   ]
  },
  {
   "cell_type": "code",
   "execution_count": 47,
   "metadata": {},
   "outputs": [
    {
     "data": {
      "text/plain": [
       "90084"
      ]
     },
     "execution_count": 47,
     "metadata": {},
     "output_type": "execute_result"
    }
   ],
   "source": [
    "len(sent)"
   ]
  },
  {
   "cell_type": "code",
   "execution_count": 64,
   "metadata": {},
   "outputs": [],
   "source": [
    "statutes = ['16-7-20', '16-9-1(B)','16-9-1(D)', '16-13-30(c)(1)', '16-9-31', '16-13-30(b)', '16-7-1(c)', '16-9-33', '16-8-18', '16-8-2', '16-8-14','16-7-1(b)', '16-7-1b', '16-9-121', '16-13-30', '16-8-7', '16-13-30(j)', '16-13-30(J)', '16-11-131(b)', '16-13-30(a)', '16-13-30(A)']\n",
    "dispositions = ['Nolle Prosse', 'Nolle Prosse - Converted', 'Nolle Prosse - Restrict', 'Not Presented to Granted Jury - Restrict - Converted', 'Not Presented to Grand Jury', 'Not Presented to Grand Jury - Restrict']\n",
    "\n",
    "sent = sent[(sent['Degree'] == 'Misdemeanor') | (sent['Statute'].isin(statutes))]"
   ]
  },
  {
   "cell_type": "code",
   "execution_count": 78,
   "metadata": {},
   "outputs": [],
   "source": [
    "sent = sent.reset_index(drop=True)"
   ]
  },
  {
   "cell_type": "code",
   "execution_count": null,
   "metadata": {},
   "outputs": [],
   "source": [
    "len(sent)\n",
    "print(sent)"
   ]
  },
  {
   "cell_type": "code",
   "execution_count": 84,
   "metadata": {},
   "outputs": [
    {
     "data": {
      "text/plain": [
       "0.4492860494737548"
      ]
     },
     "execution_count": 84,
     "metadata": {},
     "output_type": "execute_result"
    }
   ],
   "source": [
    "len(sent[sent['Degree'] == 'Felony'])/len(sent)"
   ]
  },
  {
   "cell_type": "code",
   "execution_count": 81,
   "metadata": {},
   "outputs": [
    {
     "name": "stdout",
     "output_type": "stream",
     "text": [
      "44751\n",
      "44751\n",
      "44751\n",
      "Eligible Cases 24421\n",
      "Percentage of eligible cases 0.5457084757882505\n",
      "Policy Cases 7725\n",
      "Percentage of policy-applied cases in eligible cases 0.3163261127717948\n"
     ]
    }
   ],
   "source": [
    "policy_case = sent[['Statute', 'ChargeDisposition']]\n",
    "flag = []\n",
    "Treatment = []\n",
    "print(len(policy_case))\n",
    "iteration = list(range(0, len(policy_case)))\n",
    "\n",
    "for i in iteration:\n",
    "    if policy_case['Statute'][i] in statutes:\n",
    "        flag.append(True)\n",
    "        if policy_case['ChargeDisposition'][i] in dispositions:\n",
    "            Treatment.append(True)\n",
    "        else:\n",
    "            Treatment.append(False)\n",
    "    else:\n",
    "        flag.append(False)\n",
    "        Treatment.append(False)\n",
    "\n",
    "print(len(flag))\n",
    "print(len(Treatment))\n",
    "print(\"Eligible Cases\", sum(flag))\n",
    "print(\"Percentage of eligible cases\", sum(flag)/len(flag))\n",
    "print(\"Policy Cases\", sum(Treatment))\n",
    "print(\"Percentage of policy-applied cases in eligible cases\", sum(Treatment)/sum(flag))"
   ]
  },
  {
   "cell_type": "code",
   "execution_count": 85,
   "metadata": {},
   "outputs": [],
   "source": [
    "sent['CaseFlag'] = flag\n",
    "sent['PolicyApplied'] = Treatment"
   ]
  },
  {
   "cell_type": "code",
   "execution_count": 87,
   "metadata": {},
   "outputs": [],
   "source": [
    "sent.to_csv('subsetSentencingData.csv')"
   ]
  },
  {
   "cell_type": "code",
   "execution_count": 60,
   "metadata": {},
   "outputs": [
    {
     "data": {
      "text/plain": [
       "Index(['CaseType', 'Attorney', 'AttorneyAppointment', 'ProsAtt',\n",
       "       'CaseOriginDate', 'JudgeandDivisionAssigned', 'PartyID', 'CaseNumber',\n",
       "       'Race', 'Ethnicity', 'Gender', 'DOB', 'City', 'State', 'ZIP'],\n",
       "      dtype='object')"
      ]
     },
     "execution_count": 60,
     "metadata": {},
     "output_type": "execute_result"
    }
   ],
   "source": [
    "pros.rename(columns={'CaseNbr':'CaseNumber'}, inplace=True)\n",
    "pros.rename(columns={'UniquePersonID':'PartyID'}, inplace=True)\n",
    "pros.columns"
   ]
  },
  {
   "cell_type": "code",
   "execution_count": 7,
   "metadata": {},
   "outputs": [
    {
     "data": {
      "text/plain": [
       "B    28734\n",
       "W     5310\n",
       "O      444\n",
       "A      311\n",
       "I       53\n",
       "H       50\n",
       "U       43\n",
       "S       20\n",
       "M        2\n",
       "Name: Race, dtype: int64"
      ]
     },
     "execution_count": 7,
     "metadata": {},
     "output_type": "execute_result"
    }
   ],
   "source": [
    "race = pros.Race\n",
    "race.value_counts()"
   ]
  },
  {
   "cell_type": "code",
   "execution_count": 9,
   "metadata": {},
   "outputs": [
    {
     "data": {
      "text/plain": [
       "B    0.818259\n",
       "W    0.151213\n",
       "O    0.012644\n",
       "A    0.008856\n",
       "I    0.001509\n",
       "H    0.001424\n",
       "U    0.001225\n",
       "S    0.000570\n",
       "M    0.000057\n",
       "Name: Race, dtype: float64"
      ]
     },
     "execution_count": 9,
     "metadata": {},
     "output_type": "execute_result"
    }
   ],
   "source": [
    "race.value_counts()/len(race)"
   ]
  },
  {
   "cell_type": "code",
   "execution_count": null,
   "metadata": {},
   "outputs": [],
   "source": [
    "ethnicity = pros.Ethnicity\n",
    "print(ethnicity.value_counts())\n",
    "ethnicity.value_counts()/len(ethnicity)"
   ]
  },
  {
   "cell_type": "code",
   "execution_count": null,
   "metadata": {},
   "outputs": [],
   "source": [
    "gender = pros.Gender\n",
    "print(gender.value_counts())\n",
    "gender.value_counts()/len(gender)"
   ]
  },
  {
   "cell_type": "code",
   "execution_count": null,
   "metadata": {},
   "outputs": [],
   "source": [
    "prosna = pros[pros['City'].notna()]\n",
    "prosna.head(10)"
   ]
  },
  {
   "cell_type": "code",
   "execution_count": 83,
   "metadata": {},
   "outputs": [
    {
     "data": {
      "text/plain": [
       "atlanta           0.200679\n",
       "decatur           0.198383\n",
       "lithonia          0.098009\n",
       "stone mountain    0.090333\n",
       "clarkston         0.019259\n",
       "ellenwood         0.019053\n",
       "conyers           0.015661\n",
       "norcross          0.015078\n",
       "lawrenceville     0.014530\n",
       "brookhaven        0.012645\n",
       "dtype: float64"
      ]
     },
     "execution_count": 83,
     "metadata": {},
     "output_type": "execute_result"
    }
   ],
   "source": [
    "city = prosna.City\n",
    "lower_cities = []\n",
    "\n",
    "for name in city:\n",
    "    lower_cities.append(name.lower())\n",
    "\n",
    "lower_cities = pd.Series(lower_cities)\n",
    "lower_cities.value_counts()[:10]/len(lower_cities)"
   ]
  },
  {
   "cell_type": "code",
   "execution_count": 97,
   "metadata": {},
   "outputs": [],
   "source": [
    "prosnazip = pros[pros['ZIP'].notna()]"
   ]
  },
  {
   "cell_type": "code",
   "execution_count": 100,
   "metadata": {},
   "outputs": [
    {
     "data": {
      "text/plain": [
       "30032         2859\n",
       "30058         1877\n",
       "30083         1858\n",
       "30034         1590\n",
       "30038         1028\n",
       "              ... \n",
       "35340            1\n",
       "30354-2473       1\n",
       "31034            1\n",
       "31801            1\n",
       "30344-6733       1\n",
       "Name: ZIP, Length: 572, dtype: int64"
      ]
     },
     "execution_count": 100,
     "metadata": {},
     "output_type": "execute_result"
    }
   ],
   "source": [
    "zip = prosnazip.ZIP\n",
    "zip.value_counts()"
   ]
  },
  {
   "cell_type": "code",
   "execution_count": 89,
   "metadata": {},
   "outputs": [],
   "source": [
    "prosnastate = pros[pros['State'].notna()]"
   ]
  },
  {
   "cell_type": "code",
   "execution_count": 146,
   "metadata": {},
   "outputs": [],
   "source": [
    "prosnadob = pros[pros['DOB'].notna()]"
   ]
  },
  {
   "cell_type": "code",
   "execution_count": 163,
   "metadata": {},
   "outputs": [],
   "source": [
    "DOB = prosnadob.DOB\n",
    "age = []"
   ]
  },
  {
   "cell_type": "code",
   "execution_count": 164,
   "metadata": {},
   "outputs": [],
   "source": [
    "for item in DOB:\n",
    "    time = pd.Timestamp.now() - pd.Timestamp(item)\n",
    "    years = time.days/365.24\n",
    "    age.append(years)"
   ]
  },
  {
   "cell_type": "code",
   "execution_count": 149,
   "metadata": {},
   "outputs": [],
   "source": [
    "import math"
   ]
  },
  {
   "cell_type": "code",
   "execution_count": 179,
   "metadata": {},
   "outputs": [],
   "source": [
    "age = pd.Series(age)\n",
    "whole_age = []\n",
    "for item in age:\n",
    "    whole_age.append(math.trunc(item))\n",
    "whole_age = pd.Series(whole_age)"
   ]
  },
  {
   "cell_type": "code",
   "execution_count": 180,
   "metadata": {},
   "outputs": [],
   "source": [
    "ranges = {'<18' : 0, '18-25' : 0, '26-35' : 0, '36-45' : 0, '46-55' : 0, '56-65' : 0, '>65' : 0}\n",
    "for item in whole_age:\n",
    "    if item < 18:\n",
    "        ranges['<18'] = ranges['<18'] + 1\n",
    "    elif item < 26:\n",
    "        ranges['18-25'] = ranges['18-25'] + 1\n",
    "    elif item < 36:\n",
    "        ranges['26-35'] = ranges['26-35'] + 1\n",
    "    elif item < 46:\n",
    "        ranges['36-45'] = ranges['36-45'] + 1\n",
    "    elif item < 56:\n",
    "        ranges['46-55'] = ranges['46-55'] + 1\n",
    "    elif item < 66:\n",
    "        ranges['56-65'] = ranges['56-65'] + 1\n",
    "    else:\n",
    "        ranges['>65'] = ranges['>65'] + 1"
   ]
  },
  {
   "cell_type": "code",
   "execution_count": 181,
   "metadata": {},
   "outputs": [],
   "source": [
    "ranges_list = []\n",
    "for count in ranges.values():\n",
    "    ranges_list.append(count)"
   ]
  },
  {
   "cell_type": "code",
   "execution_count": 192,
   "metadata": {},
   "outputs": [
    {
     "name": "stdout",
     "output_type": "stream",
     "text": [
      "0.05145356315924878\n",
      "14.078266586627791\n",
      "38.83028899751308\n",
      "25.563845296286768\n",
      "12.042992310550838\n",
      "7.420747220078323\n",
      "2.0124060257839522\n"
     ]
    }
   ],
   "source": [
    "age_count = ranges_list[0] + ranges_list[1] + ranges_list[2] + ranges_list[3] + ranges_list[4] + ranges_list[5] + ranges_list[6]\n",
    "\n",
    "for item in ranges_list:\n",
    "    print((item/age_count) * 100)"
   ]
  }
 ],
 "metadata": {
  "kernelspec": {
   "display_name": "Python 3.8.8 ('base')",
   "language": "python",
   "name": "python3"
  },
  "language_info": {
   "codemirror_mode": {
    "name": "ipython",
    "version": 3
   },
   "file_extension": ".py",
   "mimetype": "text/x-python",
   "name": "python",
   "nbconvert_exporter": "python",
   "pygments_lexer": "ipython3",
   "version": "3.8.8"
  },
  "orig_nbformat": 4,
  "vscode": {
   "interpreter": {
    "hash": "90fcc35f05924ec763ca10d09969f898da1a89691b55643edb2b0f81054711e1"
   }
  }
 },
 "nbformat": 4,
 "nbformat_minor": 2
}
