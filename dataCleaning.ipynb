{
 "cells": [
  {
   "cell_type": "code",
   "execution_count": 9,
   "metadata": {},
   "outputs": [],
   "source": [
    "import numpy as np\n",
    "import pandas as pd"
   ]
  },
  {
   "cell_type": "markdown",
   "metadata": {},
   "source": [
    "Import the data sets: prosecutor, sentencing, flagged cases and policy-eligible statutes.\n",
    "Define all the policy-eligible statutes based on the document provided by the District Attorney's Office. Each list contains statutes that apply to a different section fo the policy."
   ]
  },
  {
   "cell_type": "code",
   "execution_count": 10,
   "metadata": {},
   "outputs": [],
   "source": [
    "pros = pd.read_csv('/Users/clairefenton/Downloads/2023-03-02_name_removed/Emory-Prosecutor Data-02-23-2023_name_rem.csv')\n",
    "sent = pd.read_csv('/Users/clairefenton/Downloads/2023-03-02_name_removed/Emory-Sentencing Information-02-27-2023_name_rem.csv')\n",
    "flagged = pd.read_csv('/Users/clairefenton/Downloads/2023-03-02_name_removed/Flagged Cases-02-23-2023_name_rem.csv')\n",
    "vgsca = ['16-13-30a', '16-13-30b', '16-13-30l2', '16-13-30i1', '16-13-30i2', '16-13-24', '16-13-26', '16-13-1c', '16-13-1b', '16-13-3', '16-13-21', '16-13-30.1', '16-13-30.2']\n",
    "forgery = ['16-9-1a', '16-9-1b', '16-9-1c', '16-9-1d', '16-9-1e']\n",
    "fraud = ['16-9-121a1', '16-9-121a2', '16-9-121a3', '16-9-121a4', '16-9-121a5', '16-9-33', '16-9-31']\n",
    "theft = ['16-18-4']\n",
    "burglary = ['16-7-1b', '16-7-1c', '16-8-18']"
   ]
  },
  {
   "cell_type": "markdown",
   "metadata": {},
   "source": [
    "Combine all the eligible statutes across the different policy sections."
   ]
  },
  {
   "cell_type": "code",
   "execution_count": 11,
   "metadata": {},
   "outputs": [],
   "source": [
    "eligible = vgsca + forgery + fraud + theft + burglary"
   ]
  },
  {
   "cell_type": "markdown",
   "metadata": {},
   "source": [
    "Merging the prosecutor and sentencing data sets using a left join."
   ]
  },
  {
   "cell_type": "code",
   "execution_count": 12,
   "metadata": {},
   "outputs": [],
   "source": [
    "sent['Matching_ID'] = sent.CaseNbr + sent.PartyID.astype(str)\n",
    "pros['Matching_ID'] = pros.CaseNumber + pros.UniquePersonID.astype(str)\n",
    "\n",
    "Merged = sent.merge(pros, on='Matching_ID', how='left')\n",
    "Merged.to_csv(\"test.csv\")\n",
    "\n",
    "col_values = []\n",
    "for col in Merged:\n",
    "    col_values.append(Merged[col].unique())\n",
    "\n",
    "col_names = []\n",
    "for col in Merged.columns:\n",
    "    col_names.append(col)\n",
    "\n",
    "uniqe_value = {col_names[i]: col_values[i] for i in range(len(col_names))}"
   ]
  },
  {
   "cell_type": "code",
   "execution_count": 13,
   "metadata": {},
   "outputs": [
    {
     "data": {
      "text/plain": [
       "Misdemeanor       693922\n",
       "Felony            389119\n",
       "X                  39668\n",
       "Serious Felony     29652\n",
       "Ordinance            396\n",
       "Name: Degree, dtype: int64"
      ]
     },
     "execution_count": 13,
     "metadata": {},
     "output_type": "execute_result"
    }
   ],
   "source": [
    "Merged.Degree.value_counts()"
   ]
  },
  {
   "cell_type": "markdown",
   "metadata": {},
   "source": [
    "There are 389,119 felony charges in the joined data set.\n",
    "\n",
    "Define a function for cleaning the statutes to account for human error. Removes all whitespaces, parentheses, extraneous dashes and sets all the letters to lower case."
   ]
  },
  {
   "cell_type": "code",
   "execution_count": 14,
   "metadata": {},
   "outputs": [],
   "source": [
    "def formatStatute(statute):\n",
    "    statute = statute.lower()\n",
    "    statute = statute.replace('(', '').replace(')', '').replace('s', '').replace(' ', '')\n",
    "    if statute.count('-') >= 3:\n",
    "        index = -1\n",
    "        while statute.count('-') > 2:\n",
    "            if statute[index] == '-':\n",
    "                statute = statute[:index] + statute[(index + 1):]\n",
    "            else:\n",
    "                index = index - 1\n",
    "    return statute "
   ]
  },
  {
   "cell_type": "markdown",
   "metadata": {},
   "source": [
    "Clean all the statutes in the merged data set."
   ]
  },
  {
   "cell_type": "code",
   "execution_count": 15,
   "metadata": {},
   "outputs": [],
   "source": [
    "messyStatutes = Merged.Statute.copy()\n",
    "for i in range(0, len(messyStatutes)):\n",
    "    messy = messyStatutes[i]\n",
    "    if type(messyStatutes[i]) != float:\n",
    "        messyStatutes[i] = formatStatute(messy)"
   ]
  },
  {
   "cell_type": "markdown",
   "metadata": {},
   "source": [
    "Add the cleaned statutes back into the merged data set as a separate column, cleanedStatute."
   ]
  },
  {
   "cell_type": "code",
   "execution_count": 16,
   "metadata": {},
   "outputs": [],
   "source": [
    "Merged['cleanedStatute'] = messyStatutes"
   ]
  },
  {
   "cell_type": "code",
   "execution_count": 17,
   "metadata": {},
   "outputs": [
    {
     "name": "stdout",
     "output_type": "stream",
     "text": [
      "1993\n",
      "2119\n"
     ]
    }
   ],
   "source": [
    "print(len(flagged[flagged['CaseFlagWord'] == 'CBL']['ControlNum'].unique()))\n",
    "print(len(flagged[flagged['CaseFlagWord'] == 'CBL']))"
   ]
  },
  {
   "cell_type": "markdown",
   "metadata": {},
   "source": [
    "There are 1993 unique case numbers in the flagged data set and 2119 observations flagged with the CBL tag (policy eligible).\n",
    "\n",
    "After merging the flagged data set, we end up with a total of 1,154,945 observations."
   ]
  },
  {
   "cell_type": "code",
   "execution_count": 18,
   "metadata": {},
   "outputs": [
    {
     "name": "stdout",
     "output_type": "stream",
     "text": [
      "1154945\n"
     ]
    }
   ],
   "source": [
    "result = pd.merge(flagged, Merged, left_on = 'ControlNum', right_on = 'CaseNumber', how = 'right')\n",
    "print(len(result))"
   ]
  },
  {
   "cell_type": "code",
   "execution_count": 19,
   "metadata": {},
   "outputs": [
    {
     "name": "stdout",
     "output_type": "stream",
     "text": [
      "233\n",
      "29\n"
     ]
    }
   ],
   "source": [
    "markedCBL = result[result['CaseFlagWord'] == 'CBL'].cleanedStatute.unique()\n",
    "print(len(markedCBL))\n",
    "print(len(eligible))"
   ]
  },
  {
   "cell_type": "markdown",
   "metadata": {},
   "source": [
    "There are 233 different statutes represented in the cases flagged as CBL, which is far more than the 29 included in the official statute list from the DA's Office."
   ]
  },
  {
   "cell_type": "code",
   "execution_count": 20,
   "metadata": {},
   "outputs": [],
   "source": [
    "cbl = flagged[flagged['CaseFlagWord'] == 'CBL']"
   ]
  },
  {
   "cell_type": "code",
   "execution_count": 21,
   "metadata": {},
   "outputs": [
    {
     "data": {
      "text/plain": [
       "357"
      ]
     },
     "execution_count": 21,
     "metadata": {},
     "output_type": "execute_result"
    }
   ],
   "source": [
    "unaccountedFor = []\n",
    "for case in list(cbl['ControlNum']):\n",
    "    if case not in list(Merged['CaseNumber']):\n",
    "        unaccountedFor.append(case)\n",
    "len(unaccountedFor)"
   ]
  },
  {
   "cell_type": "markdown",
   "metadata": {},
   "source": [
    "There are 357 case numbers marked as CBL that do not appear in the prosecuting and sentencing data set.\n",
    "\n",
    "Specify the charge dispositions which indicate the policy was applied. Examine all the different dispositions included in the entire data set and those applied to the CBL cases to ensure all the correct ones are accounted for. "
   ]
  },
  {
   "cell_type": "code",
   "execution_count": 22,
   "metadata": {},
   "outputs": [
    {
     "data": {
      "text/plain": [
       "array(['Nolle Prosse - Restrict',\n",
       "       'Not Presented to Grand Jury - Restrict', nan,\n",
       "       'Not Presented to Grand Jury', 'Pre Trial Diversion - Restrict',\n",
       "       'Not Guilty - Restrict', 'Dismissed', 'Nolle Prosse', 'Guilty',\n",
       "       'Dead Docket', 'First Offender Act - Pending',\n",
       "       'First Offender Act Completed',\n",
       "       'No Further Action Anticipated - Restrict',\n",
       "       'Not Guilty by Reason of Insanity - Restrict',\n",
       "       'Conditional Discharge Pending',\n",
       "       'Conditional Discharge - Completed'], dtype=object)"
      ]
     },
     "execution_count": 22,
     "metadata": {},
     "output_type": "execute_result"
    }
   ],
   "source": [
    "result[result['CaseFlagWord'] == 'CBL']['ChargeDisposition'].unique()"
   ]
  },
  {
   "cell_type": "code",
   "execution_count": 23,
   "metadata": {},
   "outputs": [
    {
     "data": {
      "text/plain": [
       "array(['Not Presented to Grand Jury', 'First Offender Act - Pending',\n",
       "       'Not Guilty - Restrict', 'Nolle Prosse', 'Guilty', nan,\n",
       "       'Nolle Prosse - Restrict', 'Merged',\n",
       "       'First Offender Act Completed', 'Nolo',\n",
       "       'Immunity From Prosecution',\n",
       "       'Not Presented to Grand Jury - Restrict',\n",
       "       'Conditional Discharge Pending', 'Jury Verdict Not Guilty',\n",
       "       'Dead Docket', 'Jury Verdict Guilty (Convicted/Adjudicated)',\n",
       "       'Dismissed', 'Directed Verdict', 'Not Guilty',\n",
       "       'Conditional Discharge - Completed',\n",
       "       'Pre Trial Diversion - Restrict', 'Amended',\n",
       "       'First Offender Act Revoked', 'No Bill - Restrict',\n",
       "       'First Offender Act Tolled', 'No Accusation Filed',\n",
       "       'Guilty by Mentally Insane', 'Vacated', 'Discharged',\n",
       "       'Transferred to Solicitor General Office',\n",
       "       'Dismissed - Completed Pretrial Diversion',\n",
       "       'Jury Verdict Not Guitly by Reason of Insanity',\n",
       "       'Ameded - Restrict', 'Transfer to Other Jurisdiction',\n",
       "       'Tranferred to Juvenile Court',\n",
       "       'First Offender Act Unsatisfactory', 'Nolo Contendere',\n",
       "       'Dismissed - Restrict', 'Charge Suspended',\n",
       "       'No Further Action Anticipated - Restrict',\n",
       "       'Not Guilty by Reason of Insanity - Restrict',\n",
       "       'Conditional Discharge Completed - Restrict', 'Transferred to DA',\n",
       "       'Added Disposition',\n",
       "       'Bench Verdict Guilty (Convicted/Adjudicated)',\n",
       "       'Not Guilty by Reason of Insanity',\n",
       "       'Dismissed for Want of Prosecution', 'Converted Disposition',\n",
       "       'Transferred to Other Jurisdiction', 'Investigative Charges',\n",
       "       'Charge Amended Or Dropped', 'Acquittal / Not Guilty',\n",
       "       'Not Guilty/Restricted', 'No Accusation Filed - Restrict',\n",
       "       'Mistrial', 'Dead Docket - Restricted',\n",
       "       'First Offender Act - Completed', 'Nolle Prosse - Converted',\n",
       "       'Transfer of Other Jurisdiction - Converted',\n",
       "       'Acquittal/Not Guilty - Converted',\n",
       "       'Acquittal By Reason of Insanity - Converted',\n",
       "       'Charge Entered in Error', 'Charge Amended of Dropped',\n",
       "       'Dismissed - Converted',\n",
       "       'Jury Verdict Guilty Less Included Offense',\n",
       "       'Mistrial - Converted',\n",
       "       'Not Presented to Granted Jury - Restrict - Converted',\n",
       "       'Bench Verdict Guilty Less Included Offense',\n",
       "       'Bench Verdict Not Guilty (Convicted/Adjudicated)', 'No Bill',\n",
       "       'Guilty - DO NOT REPORT TO DDS',\n",
       "       'Nolo Contendere - DO NOT REPORT TO DDS',\n",
       "       'Transferred to State Court', 'Verdict of Guilty',\n",
       "       'Disposition Entered In Error', 'Failure to Appear - Withdrawl',\n",
       "       'Dismissed - Restricted', 'Plea Accepted',\n",
       "       'Conditional Discharge Completed / Restrict',\n",
       "       'Verdict of Not Guilty', 'Charge Withdrawn',\n",
       "       'Statute of Limitations Reached', 'Administrative Closure',\n",
       "       'Discharged and Acquitted',\n",
       "       'Bench Verdict Not Guilty by Reason of Insanity',\n",
       "       'Dead Docket - Restrict', 'Case Closed', 'Charge Indicted',\n",
       "       'Duplicate Charge', 'Verdict of GU Merged for Sent', 'Fine Paid',\n",
       "       'Motion for New Trial Granted', 'No Further Action Anticipated',\n",
       "       'Mentally Incompetent to Stand Trial', 'No Verdict Reached',\n",
       "       'Jury Verdict - First Offender Act', 'Failure to Appear',\n",
       "       'Merged - Restrict', 'Transferred to Federal Court',\n",
       "       'Directed Verdict - Restrict', 'Mtn Quash Indict/Accus Granted',\n",
       "       'Converted Plea', 'Case Closed - Sealed to Public'], dtype=object)"
      ]
     },
     "execution_count": 23,
     "metadata": {},
     "output_type": "execute_result"
    }
   ],
   "source": [
    "result['ChargeDisposition'].unique()"
   ]
  },
  {
   "cell_type": "code",
   "execution_count": 24,
   "metadata": {},
   "outputs": [],
   "source": [
    "statutes = eligible\n",
    "#dispositions = ['Nolle Prosse', 'Nolle Prosse - Converted', 'Nolle Prosse - Restrict', 'Not Presented to Granted Jury - Restrict - Converted', 'Not Presented to Grand Jury', 'Not Presented to Grand Jury - Restrict']\n",
    "dispositions = ['Nolle Prosse', 'Dismissed', 'Dismissed - Restrict', 'Dismissed - Restricted', 'Dismissed - Converted', 'Nolle Prosse', 'Nolle Prosse - Converted', 'Nolle Prosse - Restrict', 'Not Presented to Granted Jury - Restrict - Converted', 'Not Presented to Grand Jury', 'Not Presented to Grand Jury - Restrict', 'Pre Trial Diversion - Restrict']"
   ]
  },
  {
   "cell_type": "markdown",
   "metadata": {},
   "source": [
    "Serious felonies as specified in the list which the DA's Office provided. "
   ]
  },
  {
   "cell_type": "code",
   "execution_count": 25,
   "metadata": {},
   "outputs": [],
   "source": [
    "svf = ['16-10-32a3', '16-10-70b', '16-11-1', '16-11-133b', '16-11-160', '16-11-1602bi', '16-11-160a2', '16-11-160a1', '16-11-160c', '16-11-1a', '16-13-30b', '16-13-2012', '16-13-31b', '16-13-31d', '16-13-31f', '16-13-31.1a', '16-5-1a', '16-5-1c', '16-5-1d', '16-5-24a', '16-5-24c1', '16-5-24g', '16-5-40a', '16-5-44', '16-5-44.1(b)(1)', '16-5-44.1(b)(2)', '16-5-46(c)', '16-5-72(a)', '16-5-80(b)', '16-6-1(a)', '16-6-2(a)(2)', '16-6-22', '16-6-22.2(b)', '16-6-22a', '16-6-3(a)', '16-6-4(c)', '16-6-5(a)', '16-7-5(b)', '16-7-88(a)', '16-7-88(b)', '16-8-41(a)', '16-8-41(c)(1)', '17-10-16a', '17-10-6.1b1-2', '17-10-7', '17-10-7c']\n",
    "for i in range(0, len(svf)):\n",
    "    messy = svf[i]\n",
    "    svf[i] = formatStatute(messy)"
   ]
  },
  {
   "cell_type": "markdown",
   "metadata": {},
   "source": [
    "Create a dictionary with each Matching_ID keys and add three items as values:\n",
    "1. A list of all the statutes corresponding to the Matching_ID (i.e. person + case combination)\n",
    "2. A count of all the corresponding statutes which are policy eligible\n",
    "3. A count of all the corresponding statutes which are policy eligible and fall under Item 4 (fraud)"
   ]
  },
  {
   "cell_type": "code",
   "execution_count": 26,
   "metadata": {},
   "outputs": [],
   "source": [
    "defendants = {}\n",
    "subSent = result[['Matching_ID', 'cleanedStatute']]\n",
    "for i in range(0, len(subSent)):\n",
    "    if subSent.loc[i][0] not in defendants:\n",
    "        defendants[subSent.loc[i][0]] = [[subSent.loc[i][1]], 0, 0]\n",
    "    else:\n",
    "        defendants[subSent.loc[i][0]][0].append(subSent.loc[i][1])\n",
    "    if subSent.loc[i][1] in eligible:\n",
    "        defendants[subSent.loc[i][0]][1] = defendants[subSent.loc[i][0]][1] + 1\n",
    "    if subSent.loc[i][1] in fraud:\n",
    "        defendants[subSent.loc[i][0]][2] = defendants[subSent.loc[i][0]][2] + 1"
   ]
  },
  {
   "cell_type": "markdown",
   "metadata": {},
   "source": [
    "Determine eligibility based on following critieria:\n",
    "1. Misdemeanor\n",
    "2. Item 4 charges where only other felony charges are other Item 4 charges\n",
    "3. Felony charges in specified statutes where the given charge is the only one"
   ]
  },
  {
   "cell_type": "code",
   "execution_count": 27,
   "metadata": {},
   "outputs": [],
   "source": [
    "policy_case = result[['cleanedStatute', 'ChargeDisposition', 'Matching_ID', 'Degree']]\n",
    "flag = []\n",
    "Treatment = []\n",
    "iteration = list(range(0, len(policy_case)))\n",
    "\n",
    "for i in iteration:\n",
    "    if (policy_case['Degree'][i] == 'Misdemeanor') | ((policy_case['cleanedStatute'][i] in fraud) & (defendants[policy_case['Matching_ID'][i]][2] == len(defendants[policy_case['Matching_ID'][i]][0]))) | ((policy_case['cleanedStatute'][i] in eligible) & (len(defendants[policy_case['Matching_ID'][i]][0]) == 1) & (defendants[policy_case['Matching_ID'][i]][1] == 1)):\n",
    "        flag.append(True)\n",
    "        if policy_case['ChargeDisposition'][i] in dispositions:\n",
    "            Treatment.append(True)\n",
    "        else:\n",
    "            Treatment.append(False)\n",
    "    else:\n",
    "        flag.append(False)\n",
    "        Treatment.append(False)"
   ]
  },
  {
   "cell_type": "code",
   "execution_count": 28,
   "metadata": {},
   "outputs": [],
   "source": [
    "result['CaseFlag'] = flag\n",
    "result['PolicyApplied'] = Treatment"
   ]
  },
  {
   "cell_type": "code",
   "execution_count": 29,
   "metadata": {},
   "outputs": [
    {
     "name": "stdout",
     "output_type": "stream",
     "text": [
      "Eligible Charges 700789\n",
      "Applied Charges 217375\n"
     ]
    }
   ],
   "source": [
    "print(\"Eligible Charges\", sum(flag))\n",
    "print(\"Applied Charges\", sum(Treatment))"
   ]
  },
  {
   "cell_type": "markdown",
   "metadata": {},
   "source": [
    "Including misdemeanors, which make up the majority of charges, there are 700,789 charges eligible for dismissal under the policy and 217,375 had the policy applied. Since misdemeanors were already up for dismissal before the policy implementation, we want to examine the non-violent felonies only to see how the policy is put into practice with the statutes specified by the DA's Office."
   ]
  },
  {
   "cell_type": "code",
   "execution_count": 30,
   "metadata": {},
   "outputs": [
    {
     "name": "stdout",
     "output_type": "stream",
     "text": [
      "Eligible Charges 6634\n",
      "Applied Charges 2246\n"
     ]
    }
   ],
   "source": [
    "onlyFel = result[(result['Degree'] != 'Misdemeanor') & (result['CaseFlag'] == True)]\n",
    "print(\"Eligible Charges\", sum(onlyFel['CaseFlag']))\n",
    "print(\"Applied Charges\", sum(onlyFel['PolicyApplied']))"
   ]
  },
  {
   "cell_type": "markdown",
   "metadata": {},
   "source": [
    "We estimated that 6634 cases are eligible for the policy, and there are 4259 cases that are actually flagged in the data set as CBL. Out of those 6634 eligible cases, only 2246 had the policy applied. Again, there appears to be something wrong with our disposition criteria — additionally, part of the issue may arise from the fact that the overlap between CBL flagged cases and the entire data set is slim."
   ]
  },
  {
   "cell_type": "code",
   "execution_count": null,
   "metadata": {},
   "outputs": [],
   "source": [
    "onlyFel[onlyFel['CaseFlag'] == True]"
   ]
  },
  {
   "cell_type": "code",
   "execution_count": 33,
   "metadata": {},
   "outputs": [],
   "source": [
    "import datetime\n",
    "import math"
   ]
  },
  {
   "cell_type": "markdown",
   "metadata": {},
   "source": [
    "Format the DateFiled, CaseOriginDate and DispositionDate columns as datetime objects and re-append them to the data frame as FormattedDateFiled, FormattedCaseOriginDate and FormattedDispositionDate."
   ]
  },
  {
   "cell_type": "code",
   "execution_count": 35,
   "metadata": {},
   "outputs": [],
   "source": [
    "FormattedDispositionDate = pd.to_datetime(result['DispositionDate'])\n",
    "FormattedCaseOriginDate = pd.to_datetime(result['CaseOriginDate'])\n",
    "FormattedDateFiled = pd.to_datetime(result['DateFiled'])"
   ]
  },
  {
   "cell_type": "code",
   "execution_count": 36,
   "metadata": {},
   "outputs": [],
   "source": [
    "result['FormattedDispositionDate'] = FormattedDispositionDate\n",
    "result['FormattedCaseOriginDate'] = FormattedCaseOriginDate\n",
    "result['FormattedDateFiled'] = FormattedDateFiled"
   ]
  },
  {
   "cell_type": "code",
   "execution_count": null,
   "metadata": {},
   "outputs": [],
   "source": [
    "result[['DispositionDate', 'FormattedDispositionDate', 'CaseOriginDate', 'FormattedCaseOriginDate', 'DateFiled', 'FormattedDateFiled']]"
   ]
  },
  {
   "cell_type": "markdown",
   "metadata": {},
   "source": [
    "Sort the data set by FormattedDate (a standardized CaseOriginDate) from earliest to latest."
   ]
  },
  {
   "cell_type": "code",
   "execution_count": 38,
   "metadata": {},
   "outputs": [],
   "source": [
    "result = result.sort_values(by='FormattedCaseOriginDate')"
   ]
  },
  {
   "cell_type": "code",
   "execution_count": null,
   "metadata": {},
   "outputs": [],
   "source": [
    "result.FormattedCaseOriginDate"
   ]
  },
  {
   "cell_type": "code",
   "execution_count": 44,
   "metadata": {},
   "outputs": [
    {
     "name": "stderr",
     "output_type": "stream",
     "text": [
      "/Users/clairefenton/anaconda/lib/python3.8/site-packages/IPython/core/interactiveshell.py:3165: DtypeWarning: Columns (1,2,3,4,5,6,17,18,24,26,27,28,29,30,31,33,34,35,36,37,38,39,40,44) have mixed types.Specify dtype option on import or set low_memory=False.\n",
      "  has_raised = await self.run_ast_nodes(code_ast.body, cell_name,\n"
     ]
    }
   ],
   "source": [
    "cleaned = pd.read_csv('/Users/clairefenton/Desktop/Emory/cleanedData.csv')\n",
    "earlierArrest = cleaned['EarlierArrest']\n",
    "result['EarlierArrest'] = earlierArrest\n",
    "result.to_csv('cleanedData.csv')"
   ]
  },
  {
   "cell_type": "markdown",
   "metadata": {},
   "source": [
    "Create recidivism variable that identifies defendants who have previously appeared in the data set according to the CaseOriginDate\n",
    "\n",
    "Loop through every observation, append the PartyID to the recidivismDefendants list if not already added and append a False value to earlierArrest if so. If the defendant already appeared in the data set, append a True value to earlierArrest. Append an nan value to earlierArrest if the data is also an nan value."
   ]
  },
  {
   "cell_type": "code",
   "execution_count": null,
   "metadata": {},
   "outputs": [],
   "source": [
    "subSent = result[['PartyID', 'Matching_ID', 'CaseOriginDate']]\n",
    "allParties = subSent.PartyID.unique()\n",
    "allParties = list(allParties)"
   ]
  },
  {
   "cell_type": "code",
   "execution_count": null,
   "metadata": {},
   "outputs": [],
   "source": [
    "visitedCases = []\n",
    "earlierArrest = []\n",
    "\n",
    "for i in range(0, len(subSent)):\n",
    "    if subSent['PartyID'][i] in allParties:\n",
    "        visitedCases.append(subSent['Matching_ID'][i])\n",
    "        delete = allParties.index(subSent['PartyID'][i])\n",
    "        del allParties[delete]\n",
    "        earlierArrest.append(False)\n",
    "    elif subSent['Matching_ID'][i] in visitedCases:\n",
    "        earlierArrest.append(False)\n",
    "    else:\n",
    "        earlierArrest.append(True)"
   ]
  },
  {
   "cell_type": "markdown",
   "metadata": {},
   "source": [
    "old code is below, not used but kept just in case"
   ]
  },
  {
   "cell_type": "code",
   "execution_count": null,
   "metadata": {},
   "outputs": [],
   "source": [
    "result['EarlierArrest'] = earlierArrest"
   ]
  },
  {
   "cell_type": "code",
   "execution_count": null,
   "metadata": {},
   "outputs": [
    {
     "data": {
      "text/html": [
       "<div>\n",
       "<style scoped>\n",
       "    .dataframe tbody tr th:only-of-type {\n",
       "        vertical-align: middle;\n",
       "    }\n",
       "\n",
       "    .dataframe tbody tr th {\n",
       "        vertical-align: top;\n",
       "    }\n",
       "\n",
       "    .dataframe thead th {\n",
       "        text-align: right;\n",
       "    }\n",
       "</style>\n",
       "<table border=\"1\" class=\"dataframe\">\n",
       "  <thead>\n",
       "    <tr style=\"text-align: right;\">\n",
       "      <th></th>\n",
       "      <th>CaseNbr</th>\n",
       "      <th>PartyID</th>\n",
       "      <th>ChargeID</th>\n",
       "      <th>Degree</th>\n",
       "      <th>cleanedStatute</th>\n",
       "      <th>CaseFlagWord</th>\n",
       "      <th>CaseFlag</th>\n",
       "      <th>CaseOriginDate</th>\n",
       "    </tr>\n",
       "  </thead>\n",
       "  <tbody>\n",
       "    <tr>\n",
       "      <th>892851</th>\n",
       "      <td>12CR6209</td>\n",
       "      <td>1718296</td>\n",
       "      <td>854682</td>\n",
       "      <td>Felony</td>\n",
       "      <td>16-9-31</td>\n",
       "      <td>CBL</td>\n",
       "      <td>True</td>\n",
       "      <td>6/22/2012</td>\n",
       "    </tr>\n",
       "    <tr>\n",
       "      <th>892849</th>\n",
       "      <td>12CR6209</td>\n",
       "      <td>1718296</td>\n",
       "      <td>854680</td>\n",
       "      <td>Felony</td>\n",
       "      <td>16-9-31</td>\n",
       "      <td>CBL</td>\n",
       "      <td>True</td>\n",
       "      <td>6/22/2012</td>\n",
       "    </tr>\n",
       "    <tr>\n",
       "      <th>892850</th>\n",
       "      <td>12CR6209</td>\n",
       "      <td>1718296</td>\n",
       "      <td>854681</td>\n",
       "      <td>Felony</td>\n",
       "      <td>16-9-31</td>\n",
       "      <td>CBL</td>\n",
       "      <td>True</td>\n",
       "      <td>6/22/2012</td>\n",
       "    </tr>\n",
       "    <tr>\n",
       "      <th>898367</th>\n",
       "      <td>12CR6209</td>\n",
       "      <td>1718296</td>\n",
       "      <td>854679</td>\n",
       "      <td>Felony</td>\n",
       "      <td>16-9-31</td>\n",
       "      <td>CBL</td>\n",
       "      <td>True</td>\n",
       "      <td>6/22/2012</td>\n",
       "    </tr>\n",
       "    <tr>\n",
       "      <th>965033</th>\n",
       "      <td>16CR2432</td>\n",
       "      <td>8016752</td>\n",
       "      <td>1648804</td>\n",
       "      <td>Felony</td>\n",
       "      <td>16-13-30a</td>\n",
       "      <td>CBL</td>\n",
       "      <td>True</td>\n",
       "      <td>3/9/2016</td>\n",
       "    </tr>\n",
       "    <tr>\n",
       "      <th>...</th>\n",
       "      <td>...</td>\n",
       "      <td>...</td>\n",
       "      <td>...</td>\n",
       "      <td>...</td>\n",
       "      <td>...</td>\n",
       "      <td>...</td>\n",
       "      <td>...</td>\n",
       "      <td>...</td>\n",
       "    </tr>\n",
       "    <tr>\n",
       "      <th>80643</th>\n",
       "      <td>D0291169</td>\n",
       "      <td>1649383</td>\n",
       "      <td>4782221</td>\n",
       "      <td>Felony</td>\n",
       "      <td>16-13-30a</td>\n",
       "      <td>CBL</td>\n",
       "      <td>True</td>\n",
       "      <td>8/8/2022</td>\n",
       "    </tr>\n",
       "    <tr>\n",
       "      <th>85215</th>\n",
       "      <td>22CR2730</td>\n",
       "      <td>10277182</td>\n",
       "      <td>4790462</td>\n",
       "      <td>Felony</td>\n",
       "      <td>16-13-30b</td>\n",
       "      <td>CBL</td>\n",
       "      <td>True</td>\n",
       "      <td>9/18/2022</td>\n",
       "    </tr>\n",
       "    <tr>\n",
       "      <th>81509</th>\n",
       "      <td>22CR2543</td>\n",
       "      <td>10272581</td>\n",
       "      <td>4778536</td>\n",
       "      <td>Felony</td>\n",
       "      <td>16-13-30a</td>\n",
       "      <td>CBL</td>\n",
       "      <td>True</td>\n",
       "      <td>9/19/2022</td>\n",
       "    </tr>\n",
       "    <tr>\n",
       "      <th>92711</th>\n",
       "      <td>D0292642</td>\n",
       "      <td>10359033</td>\n",
       "      <td>4800248</td>\n",
       "      <td>Felony</td>\n",
       "      <td>16-13-30a</td>\n",
       "      <td>CBL</td>\n",
       "      <td>True</td>\n",
       "      <td>11/8/2022</td>\n",
       "    </tr>\n",
       "    <tr>\n",
       "      <th>93116</th>\n",
       "      <td>23CR1216</td>\n",
       "      <td>10384994</td>\n",
       "      <td>4806434</td>\n",
       "      <td>Felony</td>\n",
       "      <td>16-9-1d</td>\n",
       "      <td>CBL</td>\n",
       "      <td>True</td>\n",
       "      <td>12/14/2022</td>\n",
       "    </tr>\n",
       "  </tbody>\n",
       "</table>\n",
       "<p>321 rows × 8 columns</p>\n",
       "</div>"
      ],
      "text/plain": [
       "         CaseNbr   PartyID  ChargeID  Degree cleanedStatute CaseFlagWord  \\\n",
       "892851  12CR6209   1718296    854682  Felony        16-9-31          CBL   \n",
       "892849  12CR6209   1718296    854680  Felony        16-9-31          CBL   \n",
       "892850  12CR6209   1718296    854681  Felony        16-9-31          CBL   \n",
       "898367  12CR6209   1718296    854679  Felony        16-9-31          CBL   \n",
       "965033  16CR2432   8016752   1648804  Felony      16-13-30a          CBL   \n",
       "...          ...       ...       ...     ...            ...          ...   \n",
       "80643   D0291169   1649383   4782221  Felony      16-13-30a          CBL   \n",
       "85215   22CR2730  10277182   4790462  Felony      16-13-30b          CBL   \n",
       "81509   22CR2543  10272581   4778536  Felony      16-13-30a          CBL   \n",
       "92711   D0292642  10359033   4800248  Felony      16-13-30a          CBL   \n",
       "93116   23CR1216  10384994   4806434  Felony        16-9-1d          CBL   \n",
       "\n",
       "        CaseFlag CaseOriginDate  \n",
       "892851      True      6/22/2012  \n",
       "892849      True      6/22/2012  \n",
       "892850      True      6/22/2012  \n",
       "898367      True      6/22/2012  \n",
       "965033      True       3/9/2016  \n",
       "...          ...            ...  \n",
       "80643       True       8/8/2022  \n",
       "85215       True      9/18/2022  \n",
       "81509       True      9/19/2022  \n",
       "92711       True      11/8/2022  \n",
       "93116       True     12/14/2022  \n",
       "\n",
       "[321 rows x 8 columns]"
      ]
     },
     "execution_count": 80,
     "metadata": {},
     "output_type": "execute_result"
    }
   ],
   "source": [
    "check = result[['CaseNbr', 'PartyID', 'ChargeID', 'Degree', 'cleanedStatute', 'CaseFlagWord', 'CaseFlag', 'CaseOriginDate']]\n",
    "check[(check['CaseFlag'] == True) & (check['Degree'] != 'Misdemeanor') & (check['CaseFlagWord'] == 'CBL')]"
   ]
  },
  {
   "cell_type": "markdown",
   "metadata": {},
   "source": [
    "There are 321 cases where we are perfectly aligned: we marked as eligible and they are CBL in the CaseFlagWord column."
   ]
  },
  {
   "cell_type": "code",
   "execution_count": null,
   "metadata": {},
   "outputs": [
    {
     "data": {
      "text/html": [
       "<div>\n",
       "<style scoped>\n",
       "    .dataframe tbody tr th:only-of-type {\n",
       "        vertical-align: middle;\n",
       "    }\n",
       "\n",
       "    .dataframe tbody tr th {\n",
       "        vertical-align: top;\n",
       "    }\n",
       "\n",
       "    .dataframe thead th {\n",
       "        text-align: right;\n",
       "    }\n",
       "</style>\n",
       "<table border=\"1\" class=\"dataframe\">\n",
       "  <thead>\n",
       "    <tr style=\"text-align: right;\">\n",
       "      <th></th>\n",
       "      <th>CaseNbr</th>\n",
       "      <th>PartyID</th>\n",
       "      <th>ChargeID</th>\n",
       "      <th>Degree</th>\n",
       "      <th>cleanedStatute</th>\n",
       "      <th>CaseFlagWord</th>\n",
       "      <th>CaseFlag</th>\n",
       "      <th>CaseOriginDate</th>\n",
       "    </tr>\n",
       "  </thead>\n",
       "  <tbody>\n",
       "    <tr>\n",
       "      <th>1003827</th>\n",
       "      <td>81CR2622</td>\n",
       "      <td>6588249</td>\n",
       "      <td>4699770</td>\n",
       "      <td>Felony</td>\n",
       "      <td>16-9-31</td>\n",
       "      <td>NaN</td>\n",
       "      <td>True</td>\n",
       "      <td>2/6/1981</td>\n",
       "    </tr>\n",
       "    <tr>\n",
       "      <th>1003905</th>\n",
       "      <td>82CR1481</td>\n",
       "      <td>6596034</td>\n",
       "      <td>3291526</td>\n",
       "      <td>Felony</td>\n",
       "      <td>16-9-31</td>\n",
       "      <td>NaN</td>\n",
       "      <td>True</td>\n",
       "      <td>12/16/1981</td>\n",
       "    </tr>\n",
       "    <tr>\n",
       "      <th>1003909</th>\n",
       "      <td>82CR1703</td>\n",
       "      <td>6599125</td>\n",
       "      <td>3349483</td>\n",
       "      <td>Felony</td>\n",
       "      <td>16-9-31</td>\n",
       "      <td>NaN</td>\n",
       "      <td>True</td>\n",
       "      <td>12/28/1981</td>\n",
       "    </tr>\n",
       "    <tr>\n",
       "      <th>1003968</th>\n",
       "      <td>83CR1117</td>\n",
       "      <td>6603276</td>\n",
       "      <td>3417258</td>\n",
       "      <td>Serious Felony</td>\n",
       "      <td>16-13-30b</td>\n",
       "      <td>NaN</td>\n",
       "      <td>True</td>\n",
       "      <td>9/13/1982</td>\n",
       "    </tr>\n",
       "    <tr>\n",
       "      <th>1004044</th>\n",
       "      <td>83CR2304</td>\n",
       "      <td>6613108</td>\n",
       "      <td>3162609</td>\n",
       "      <td>Felony</td>\n",
       "      <td>16-9-33</td>\n",
       "      <td>NaN</td>\n",
       "      <td>True</td>\n",
       "      <td>4/26/1983</td>\n",
       "    </tr>\n",
       "    <tr>\n",
       "      <th>...</th>\n",
       "      <td>...</td>\n",
       "      <td>...</td>\n",
       "      <td>...</td>\n",
       "      <td>...</td>\n",
       "      <td>...</td>\n",
       "      <td>...</td>\n",
       "      <td>...</td>\n",
       "      <td>...</td>\n",
       "    </tr>\n",
       "    <tr>\n",
       "      <th>1137480</th>\n",
       "      <td>D00231098</td>\n",
       "      <td>8099304</td>\n",
       "      <td>1529979</td>\n",
       "      <td>Felony</td>\n",
       "      <td>16-9-33</td>\n",
       "      <td>NaN</td>\n",
       "      <td>True</td>\n",
       "      <td>NaN</td>\n",
       "    </tr>\n",
       "    <tr>\n",
       "      <th>1140413</th>\n",
       "      <td>D00252888</td>\n",
       "      <td>5954798</td>\n",
       "      <td>1532915</td>\n",
       "      <td>Felony</td>\n",
       "      <td>16-9-33</td>\n",
       "      <td>NaN</td>\n",
       "      <td>True</td>\n",
       "      <td>NaN</td>\n",
       "    </tr>\n",
       "    <tr>\n",
       "      <th>1142388</th>\n",
       "      <td>D0034157</td>\n",
       "      <td>6076097</td>\n",
       "      <td>1534888</td>\n",
       "      <td>Felony</td>\n",
       "      <td>16-9-33</td>\n",
       "      <td>NaN</td>\n",
       "      <td>True</td>\n",
       "      <td>NaN</td>\n",
       "    </tr>\n",
       "    <tr>\n",
       "      <th>1146102</th>\n",
       "      <td>D0067400</td>\n",
       "      <td>6024108</td>\n",
       "      <td>1538602</td>\n",
       "      <td>Felony</td>\n",
       "      <td>16-8-18</td>\n",
       "      <td>NaN</td>\n",
       "      <td>True</td>\n",
       "      <td>NaN</td>\n",
       "    </tr>\n",
       "    <tr>\n",
       "      <th>1152635</th>\n",
       "      <td>D01017586</td>\n",
       "      <td>5957377</td>\n",
       "      <td>1545140</td>\n",
       "      <td>Felony</td>\n",
       "      <td>16-8-18</td>\n",
       "      <td>NaN</td>\n",
       "      <td>True</td>\n",
       "      <td>NaN</td>\n",
       "    </tr>\n",
       "  </tbody>\n",
       "</table>\n",
       "<p>9136 rows × 8 columns</p>\n",
       "</div>"
      ],
      "text/plain": [
       "           CaseNbr  PartyID  ChargeID          Degree cleanedStatute  \\\n",
       "1003827   81CR2622  6588249   4699770          Felony        16-9-31   \n",
       "1003905   82CR1481  6596034   3291526          Felony        16-9-31   \n",
       "1003909   82CR1703  6599125   3349483          Felony        16-9-31   \n",
       "1003968   83CR1117  6603276   3417258  Serious Felony      16-13-30b   \n",
       "1004044   83CR2304  6613108   3162609          Felony        16-9-33   \n",
       "...            ...      ...       ...             ...            ...   \n",
       "1137480  D00231098  8099304   1529979          Felony        16-9-33   \n",
       "1140413  D00252888  5954798   1532915          Felony        16-9-33   \n",
       "1142388   D0034157  6076097   1534888          Felony        16-9-33   \n",
       "1146102   D0067400  6024108   1538602          Felony        16-8-18   \n",
       "1152635  D01017586  5957377   1545140          Felony        16-8-18   \n",
       "\n",
       "        CaseFlagWord  CaseFlag CaseOriginDate  \n",
       "1003827          NaN      True       2/6/1981  \n",
       "1003905          NaN      True     12/16/1981  \n",
       "1003909          NaN      True     12/28/1981  \n",
       "1003968          NaN      True      9/13/1982  \n",
       "1004044          NaN      True      4/26/1983  \n",
       "...              ...       ...            ...  \n",
       "1137480          NaN      True            NaN  \n",
       "1140413          NaN      True            NaN  \n",
       "1142388          NaN      True            NaN  \n",
       "1146102          NaN      True            NaN  \n",
       "1152635          NaN      True            NaN  \n",
       "\n",
       "[9136 rows x 8 columns]"
      ]
     },
     "execution_count": 81,
     "metadata": {},
     "output_type": "execute_result"
    }
   ],
   "source": [
    "allEligibleFel = check[((check['CaseFlag'] == True) | (check['CaseFlagWord'] == 'CBL')) & (check['Degree'] != 'Misdemeanor')]\n",
    "allEligibleFel"
   ]
  },
  {
   "cell_type": "markdown",
   "metadata": {},
   "source": [
    "There are 9136 non misdemeanor cases which are either marked as CBL or we marked as eligible."
   ]
  },
  {
   "cell_type": "code",
   "execution_count": null,
   "metadata": {},
   "outputs": [
    {
     "data": {
      "text/plain": [
       "CBL        321\n",
       "DCAP       119\n",
       "DCAPREF     17\n",
       "Name: CaseFlagWord, dtype: int64"
      ]
     },
     "execution_count": 82,
     "metadata": {},
     "output_type": "execute_result"
    }
   ],
   "source": [
    "flaggedTrue = allEligibleFel[allEligibleFel['CaseFlag'] == True]\n",
    "flaggedTrue.CaseFlagWord.value_counts()"
   ]
  },
  {
   "cell_type": "markdown",
   "metadata": {},
   "source": [
    "There are only 321 total CBL flags appearing in all the 9136 non misdemeanor charges we flagged as eligible, and only 457 total CaseFlagWords. Most of the cases we flagged as eligible do not have any CaseFlagWord data for us to compare against."
   ]
  },
  {
   "cell_type": "code",
   "execution_count": null,
   "metadata": {},
   "outputs": [
    {
     "data": {
      "text/html": [
       "<div>\n",
       "<style scoped>\n",
       "    .dataframe tbody tr th:only-of-type {\n",
       "        vertical-align: middle;\n",
       "    }\n",
       "\n",
       "    .dataframe tbody tr th {\n",
       "        vertical-align: top;\n",
       "    }\n",
       "\n",
       "    .dataframe thead th {\n",
       "        text-align: right;\n",
       "    }\n",
       "</style>\n",
       "<table border=\"1\" class=\"dataframe\">\n",
       "  <thead>\n",
       "    <tr style=\"text-align: right;\">\n",
       "      <th></th>\n",
       "      <th>CaseNbr</th>\n",
       "      <th>PartyID</th>\n",
       "      <th>ChargeID</th>\n",
       "      <th>Degree</th>\n",
       "      <th>cleanedStatute</th>\n",
       "      <th>CaseFlagWord</th>\n",
       "      <th>CaseFlag</th>\n",
       "      <th>PolicyApplied</th>\n",
       "      <th>CaseOriginDate</th>\n",
       "    </tr>\n",
       "  </thead>\n",
       "  <tbody>\n",
       "    <tr>\n",
       "      <th>1061803</th>\n",
       "      <td>95CR2704</td>\n",
       "      <td>8025493</td>\n",
       "      <td>4587321</td>\n",
       "      <td>Felony</td>\n",
       "      <td>17-6-12</td>\n",
       "      <td>CBL</td>\n",
       "      <td>False</td>\n",
       "      <td>False</td>\n",
       "      <td>5/8/1995</td>\n",
       "    </tr>\n",
       "    <tr>\n",
       "      <th>1061802</th>\n",
       "      <td>95CR2704</td>\n",
       "      <td>8025493</td>\n",
       "      <td>1331225</td>\n",
       "      <td>Felony</td>\n",
       "      <td>2404</td>\n",
       "      <td>CBL</td>\n",
       "      <td>False</td>\n",
       "      <td>False</td>\n",
       "      <td>5/8/1995</td>\n",
       "    </tr>\n",
       "    <tr>\n",
       "      <th>859906</th>\n",
       "      <td>03CR1026</td>\n",
       "      <td>2647627</td>\n",
       "      <td>4139159</td>\n",
       "      <td>Felony</td>\n",
       "      <td>42-8-38</td>\n",
       "      <td>CBL</td>\n",
       "      <td>False</td>\n",
       "      <td>False</td>\n",
       "      <td>1/6/2003</td>\n",
       "    </tr>\n",
       "    <tr>\n",
       "      <th>315693</th>\n",
       "      <td>03CR1026</td>\n",
       "      <td>2647627</td>\n",
       "      <td>229705</td>\n",
       "      <td>Felony</td>\n",
       "      <td>16-13-30</td>\n",
       "      <td>CBL</td>\n",
       "      <td>False</td>\n",
       "      <td>False</td>\n",
       "      <td>1/6/2003</td>\n",
       "    </tr>\n",
       "    <tr>\n",
       "      <th>850360</th>\n",
       "      <td>06CR2776</td>\n",
       "      <td>204255</td>\n",
       "      <td>4680922</td>\n",
       "      <td>Felony</td>\n",
       "      <td>17-6-12</td>\n",
       "      <td>CBL</td>\n",
       "      <td>False</td>\n",
       "      <td>False</td>\n",
       "      <td>5/26/2006</td>\n",
       "    </tr>\n",
       "    <tr>\n",
       "      <th>...</th>\n",
       "      <td>...</td>\n",
       "      <td>...</td>\n",
       "      <td>...</td>\n",
       "      <td>...</td>\n",
       "      <td>...</td>\n",
       "      <td>...</td>\n",
       "      <td>...</td>\n",
       "      <td>...</td>\n",
       "      <td>...</td>\n",
       "    </tr>\n",
       "    <tr>\n",
       "      <th>83483</th>\n",
       "      <td>D0292874</td>\n",
       "      <td>8201802</td>\n",
       "      <td>4795590</td>\n",
       "      <td>Misdemeanor</td>\n",
       "      <td>16-11-39</td>\n",
       "      <td>CBL</td>\n",
       "      <td>True</td>\n",
       "      <td>True</td>\n",
       "      <td>NaN</td>\n",
       "    </tr>\n",
       "    <tr>\n",
       "      <th>89657</th>\n",
       "      <td>D0288914</td>\n",
       "      <td>9110955</td>\n",
       "      <td>4756853</td>\n",
       "      <td>Misdemeanor</td>\n",
       "      <td>40-5-20a</td>\n",
       "      <td>CBL</td>\n",
       "      <td>True</td>\n",
       "      <td>True</td>\n",
       "      <td>NaN</td>\n",
       "    </tr>\n",
       "    <tr>\n",
       "      <th>530926</th>\n",
       "      <td>06CR4865</td>\n",
       "      <td>8353585</td>\n",
       "      <td>448814</td>\n",
       "      <td>Felony</td>\n",
       "      <td>16-13-30</td>\n",
       "      <td>CBL</td>\n",
       "      <td>False</td>\n",
       "      <td>False</td>\n",
       "      <td>NaN</td>\n",
       "    </tr>\n",
       "    <tr>\n",
       "      <th>849119</th>\n",
       "      <td>06CR4865</td>\n",
       "      <td>8353585</td>\n",
       "      <td>4586648</td>\n",
       "      <td>Felony</td>\n",
       "      <td>17-6-12</td>\n",
       "      <td>CBL</td>\n",
       "      <td>False</td>\n",
       "      <td>False</td>\n",
       "      <td>NaN</td>\n",
       "    </tr>\n",
       "    <tr>\n",
       "      <th>890375</th>\n",
       "      <td>12CR2549</td>\n",
       "      <td>9302989</td>\n",
       "      <td>844887</td>\n",
       "      <td>Misdemeanor</td>\n",
       "      <td>16-8-2</td>\n",
       "      <td>CBL</td>\n",
       "      <td>True</td>\n",
       "      <td>True</td>\n",
       "      <td>NaN</td>\n",
       "    </tr>\n",
       "  </tbody>\n",
       "</table>\n",
       "<p>4259 rows × 9 columns</p>\n",
       "</div>"
      ],
      "text/plain": [
       "          CaseNbr  PartyID  ChargeID       Degree cleanedStatute CaseFlagWord  \\\n",
       "1061803  95CR2704  8025493   4587321       Felony        17-6-12          CBL   \n",
       "1061802  95CR2704  8025493   1331225       Felony           2404          CBL   \n",
       "859906   03CR1026  2647627   4139159       Felony        42-8-38          CBL   \n",
       "315693   03CR1026  2647627    229705       Felony       16-13-30          CBL   \n",
       "850360   06CR2776   204255   4680922       Felony        17-6-12          CBL   \n",
       "...           ...      ...       ...          ...            ...          ...   \n",
       "83483    D0292874  8201802   4795590  Misdemeanor       16-11-39          CBL   \n",
       "89657    D0288914  9110955   4756853  Misdemeanor       40-5-20a          CBL   \n",
       "530926   06CR4865  8353585    448814       Felony       16-13-30          CBL   \n",
       "849119   06CR4865  8353585   4586648       Felony        17-6-12          CBL   \n",
       "890375   12CR2549  9302989    844887  Misdemeanor         16-8-2          CBL   \n",
       "\n",
       "         CaseFlag  PolicyApplied CaseOriginDate  \n",
       "1061803     False          False       5/8/1995  \n",
       "1061802     False          False       5/8/1995  \n",
       "859906      False          False       1/6/2003  \n",
       "315693      False          False       1/6/2003  \n",
       "850360      False          False      5/26/2006  \n",
       "...           ...            ...            ...  \n",
       "83483        True           True            NaN  \n",
       "89657        True           True            NaN  \n",
       "530926      False          False            NaN  \n",
       "849119      False          False            NaN  \n",
       "890375       True           True            NaN  \n",
       "\n",
       "[4259 rows x 9 columns]"
      ]
     },
     "execution_count": 145,
     "metadata": {},
     "output_type": "execute_result"
    }
   ],
   "source": [
    "cblEligible = result[['CaseNbr', 'PartyID', 'ChargeID', 'Degree', 'cleanedStatute', 'CaseFlagWord', 'CaseFlag', 'PolicyApplied', 'CaseOriginDate']]\n",
    "cblEligible = cblEligible[cblEligible['CaseFlagWord'] == 'CBL']\n",
    "cblEligible"
   ]
  },
  {
   "cell_type": "code",
   "execution_count": null,
   "metadata": {},
   "outputs": [],
   "source": [
    "cblEligible.cleanedStatute.unique()"
   ]
  },
  {
   "cell_type": "markdown",
   "metadata": {},
   "source": [
    "There are many statutes corresponding with CBL cases that are not included in the list of statutes provided by the DA's Office. Such instances might be examples of prosecutors using discretion and dismissing non-eligible cases \"in the spirit of the policy.\" These statutes could also correspond to midemeanor offenses, which would not appear on the list provided by the DA's Office but would still be policy eligible.\n",
    "\n",
    "The cblEligible subset is what must be used to calculate the applied rate since some cases do not have a CaseFlagWord variable."
   ]
  },
  {
   "cell_type": "code",
   "execution_count": null,
   "metadata": {},
   "outputs": [
    {
     "name": "stdout",
     "output_type": "stream",
     "text": [
      "Eligible Charges 1757\n",
      "Applied Charges 1576\n",
      "Percentage of CBL charges deemed eligible 0.41253815449636067\n",
      "Percentage of CBL charges deemed applied 0.37003991547311577\n",
      "Percentage of CBL cases which are not midemeanors 0.6628316506222118\n"
     ]
    }
   ],
   "source": [
    "print(\"Eligible Charges\", sum(cblEligible.CaseFlag))\n",
    "print(\"Applied Charges\", sum(cblEligible.PolicyApplied))\n",
    "print(\"Percentage of CBL charges deemed eligible\", sum(cblEligible.CaseFlag)/len(cblEligible))\n",
    "print(\"Percentage of CBL charges deemed applied\", sum(cblEligible.PolicyApplied)/len(cblEligible))"
   ]
  },
  {
   "cell_type": "code",
   "execution_count": null,
   "metadata": {},
   "outputs": [
    {
     "name": "stdout",
     "output_type": "stream",
     "text": [
      "Percentage of CBL cases which are not midemeanors 0.6628316506222118\n",
      "Percentage of eligible CBL cases which are not misdemeanors 0.07536980511857244\n",
      "Percentage of applied CBL cases which are not misdemeanors 0.06550833528997417\n"
     ]
    }
   ],
   "source": [
    "print(\"Percentage of CBL cases which are not midemeanors\", len(cblEligible[cblEligible['Degree'] != 'Misdemeanor'])/len(cblEligible))\n",
    "print(\"Percentage of eligible CBL cases which are not misdemeanors\", len(cblEligible[(cblEligible['Degree'] != 'Misdemeanor') & (cblEligible['CaseFlag'] == True)])/len(cblEligible))\n",
    "print(\"Percentage of applied CBL cases which are not misdemeanors\", len(cblEligible[(cblEligible['Degree'] != 'Misdemeanor') & (cblEligible['CaseFlag'] == True) & (cblEligible['PolicyApplied'] == True)])/len(cblEligible))"
   ]
  },
  {
   "cell_type": "code",
   "execution_count": null,
   "metadata": {},
   "outputs": [],
   "source": [
    "result.to_csv('cleanedData.csv')"
   ]
  }
 ],
 "metadata": {
  "kernelspec": {
   "display_name": "Python 3.8.8 ('base')",
   "language": "python",
   "name": "python3"
  },
  "language_info": {
   "codemirror_mode": {
    "name": "ipython",
    "version": 3
   },
   "file_extension": ".py",
   "mimetype": "text/x-python",
   "name": "python",
   "nbconvert_exporter": "python",
   "pygments_lexer": "ipython3",
   "version": "3.8.8"
  },
  "orig_nbformat": 4,
  "vscode": {
   "interpreter": {
    "hash": "90fcc35f05924ec763ca10d09969f898da1a89691b55643edb2b0f81054711e1"
   }
  }
 },
 "nbformat": 4,
 "nbformat_minor": 2
}
